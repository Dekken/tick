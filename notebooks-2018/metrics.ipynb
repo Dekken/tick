{
 "cells": [
  {
   "cell_type": "code",
   "execution_count": 1,
   "metadata": {},
   "outputs": [
    {
     "name": "stderr",
     "output_type": "stream",
     "text": [
      "/home/m.bompaire/anaconda3/lib/python3.7/site-packages/sklearn/externals/joblib/__init__.py:15: DeprecationWarning: sklearn.externals.joblib is deprecated in 0.21 and will be removed in 0.23. Please import this functionality directly from joblib, which can be installed with: pip install joblib. If this warning is raised when loading pickled models, you may need to re-serialize those models with scikit-learn 0.21+.\n",
      "  warnings.warn(msg, category=DeprecationWarning)\n"
     ]
    }
   ],
   "source": [
    "import sys\n",
    "import os\n",
    "sys.path = [os.path.abspath('../')] + sys.path\n",
    "\n",
    "os.environ['OMP_NUM_THREADS'] = '1'\n",
    "os.environ['OPENBLAS_NUM_THREADS'] = '1'\n",
    "\n",
    "from experiments.plot_hawkes import plot_coeffs, plot_ticks_hist\n",
    "from experiments.hawkes_coeffs import get_coeffs_dim_30, get_coeffs_dim_100, retrieve_coeffs\n",
    "from experiments.simulation import simulate_and_save_hawkes, simulate_hawkes_in_parallel\n",
    "from experiments.weights_computation import pre_compute_hawkes\n",
    "from experiments.learning import find_best_metrics\n",
    "\n",
    "%matplotlib inline\n",
    "%load_ext autoreload\n",
    "%autoreload 2"
   ]
  },
  {
   "cell_type": "code",
   "execution_count": 2,
   "metadata": {},
   "outputs": [],
   "source": [
    "from multiprocessing import cpu_count\n",
    "\n",
    "dim = 30\n",
    "run_times = [20000] #[5000, 7000, 10000, 15000, 20000]\n",
    "\n",
    "n_simulations = 10\n",
    "n_cpu = cpu_count() - 1\n",
    "\n",
    "directory_path = '/home/m.bompaire/experiments/hawkes_data/'\n",
    "#directory_path = '/home/m.bompaire/experiments/hawkes_data_v2_2nd/'\n",
    "#directory_path = '/home/m.bompaire/experiments/hawkes_data_v3/'\n",
    "\n",
    "n_decays = 3"
   ]
  },
  {
   "cell_type": "code",
   "execution_count": 3,
   "metadata": {},
   "outputs": [
    {
     "name": "stdout",
     "output_type": "stream",
     "text": [
      "/home/m.bompaire/experiments/hawkes_data/train_hawkes/dim_30/u=3/T_20000/simulation_006.npy\n",
      "/home/m.bompaire/experiments/hawkes_data/train_hawkes/dim_30/u=3/T_20000/simulation_005.npy\n",
      "/home/m.bompaire/experiments/hawkes_data/train_hawkes/dim_30/u=3/T_20000/simulation_007.npy\n",
      "/home/m.bompaire/experiments/hawkes_data/train_hawkes/dim_30/u=3/T_20000/simulation_003.npy\n",
      "/home/m.bompaire/experiments/hawkes_data/train_hawkes/dim_30/u=3/T_20000/simulation_008.npy\n",
      "/home/m.bompaire/experiments/hawkes_data/train_hawkes/dim_30/u=3/T_20000/simulation_004.npy\n",
      "/home/m.bompaire/experiments/hawkes_data/train_hawkes/dim_30/u=3/T_20000/simulation_002.npy\n",
      "/home/m.bompaire/experiments/hawkes_data/train_hawkes/dim_30/u=3/T_20000/simulation_000.npy\n",
      "/home/m.bompaire/experiments/hawkes_data/train_hawkes/dim_30/u=3/T_20000/simulation_001.npy\n",
      "/home/m.bompaire/experiments/hawkes_data/train_hawkes/dim_30/u=3/T_20000/simulation_009.npy\n"
     ]
    }
   ],
   "source": [
    "simulate_hawkes_in_parallel(dim, run_times, n_decays, n_simulations, directory_path, n_cpu=n_cpu)"
   ]
  },
  {
   "cell_type": "code",
   "execution_count": 7,
   "metadata": {},
   "outputs": [
    {
     "name": "stdout",
     "output_type": "stream",
     "text": [
      "\n",
      "------------------------------\n",
      "DIM=30 T=20000 : 2020-02-19 18:22\n",
      "saved precomputed_008.pkl , with loss = 7038.155884578847, lipbest=7.822568157940125\n",
      "saved precomputed_004.pkl , with loss = 7080.575792361381, lipbest=7.906162656385638\n",
      "saved precomputed_006.pkl , with loss = 7181.609119348994, lipbest=8.033841728314815\n",
      "saved precomputed_000.pkl , with loss = 7043.841590702999, lipbest=7.833125496137289\n",
      "saved precomputed_001.pkl , with loss = 7149.203897343354, lipbest=7.98928395933376\n",
      "saved precomputed_007.pkl , with loss = 7157.614148611257, lipbest=7.999062127272758\n",
      "saved precomputed_005.pkl , with loss = 7210.853925428988, lipbest=8.08875462540167\n",
      "saved precomputed_002.pkl , with loss = 7159.070738966366, lipbest=7.995116366757534\n",
      "saved precomputed_009.pkl , with loss = 7227.7784861426135, lipbest=8.101613689897091\n",
      "saved precomputed_003.pkl , with loss = 7216.514736975868, lipbest=8.08751250416364\n"
     ]
    }
   ],
   "source": [
    "max_pre_computed_hawkes = 10\n",
    "\n",
    "for run_time in run_times:\n",
    "    pre_compute_hawkes(dim, run_time, n_decays, max_pre_computed_hawkes, \n",
    "                       directory_path, n_cpu=n_cpu)"
   ]
  },
  {
   "cell_type": "code",
   "execution_count": 18,
   "metadata": {},
   "outputs": [
    {
     "data": {
      "text/plain": [
       "['l1', 'l1w', 'nuclear', 'dedicated_l1w_nuclear_1d', 'dedicated_l1_nuclear_1d']"
      ]
     },
     "execution_count": 18,
     "metadata": {},
     "output_type": "execute_result"
    }
   ],
   "source": [
    "from collections import OrderedDict\n",
    "\n",
    "from experiments.report_utils import read_lambdas_csv\n",
    "\n",
    "from experiments.tested_prox import (\n",
    "    create_prox_l1_no_mu, create_prox_l1w_no_mu,\n",
    "    create_prox_l1_no_mu_nuclear, create_prox_l1w_no_mu_nuclear,\n",
    "    create_prox_nuclear\n",
    ")\n",
    "\n",
    "prox_infos = OrderedDict()\n",
    "\n",
    "prox_infos['l1'] = {\n",
    "    'n_initial_points': 10,\n",
    "    'max_relative_step': 1.4,\n",
    "    'create_prox': create_prox_l1_no_mu,\n",
    "    'tol': 1e-10,\n",
    "    'dim': 1,\n",
    "}\n",
    "\n",
    "prox_infos['l1w'] = {\n",
    "    'n_initial_points': 10,\n",
    "    'max_relative_step': 1.4,\n",
    "    'create_prox': create_prox_l1w_no_mu,\n",
    "    'tol': 1e-10,\n",
    "    'dim': 1,\n",
    "}\n",
    "\n",
    "prox_infos['nuclear'] = {\n",
    "    'n_initial_points': 3,\n",
    "    'max_relative_step': 2,\n",
    "    'create_prox': create_prox_nuclear,\n",
    "    'tol': 1e-7,\n",
    "    'dim': 1,\n",
    "}\n",
    "\n",
    "# prox_infos['l1_nuclear'] = {\n",
    "#     'n_initial_points': 3,\n",
    "#     'max_relative_step': 5,\n",
    "#     'create_prox': create_prox_l1_no_mu_nuclear,\n",
    "#     'tol': 1e-7,\n",
    "#     'dim': 2,\n",
    "# }\n",
    "# \n",
    "# prox_infos['l1w_nuclear'] = {\n",
    "#     'n_initial_points': 3,\n",
    "#     'max_relative_step': 5,\n",
    "#     'create_prox': create_prox_l1w_no_mu_nuclear,\n",
    "#     'tol': 1e-7,\n",
    "#     'dim': 2,\n",
    "# }\n",
    "\n",
    "def get_nuclear_strength_as_initial_points(suffix, model_file_paths):\n",
    "    lambdas_df = read_lambdas_csv(suffix, [])\n",
    "    prox_lambdas_df = lambdas_df[lambdas_df['prox'] == 'nuclear']\n",
    "    \n",
    "    initial_points_dict = {}\n",
    "    for _, row in prox_lambdas_df.iterrows():\n",
    "        end_time = int(row['end_time'])\n",
    "        best_lambdas_str = row[['alpha_auc', 'alphas_auc_no_diag', 'estimation_error', 'estimation_error_no_diag','kendall', 'kendall_no_diag']].values\n",
    "        best_lambdas = sorted(list(set([float(l) for l in best_lambdas_str])))\n",
    "        initial_points_dict[end_time] = best_lambdas\n",
    "        \n",
    "    end_time = int(model_file_paths[0].split('T_')[1].split('/')[0])\n",
    "    return initial_points_dict[end_time]\n",
    "\n",
    "# get_nuclear_strength_as_initial_points('v3_10_models-Copy1', ['/home/m.bompaire/experiments/hawkes_data_v3/train_hawkes/dim_30/u=3/T_10000/precomputed/precomputed_000.pkl'])\n",
    "\n",
    "prox_infos['dedicated_l1w_nuclear_1d'] = {\n",
    "    'initial_points': get_nuclear_strength_as_initial_points,\n",
    "    'n_initial_points': 5,\n",
    "    'max_relative_step': 2,\n",
    "    'create_prox': create_prox_l1w_no_mu_nuclear,\n",
    "    'tol': 1e-8,\n",
    "    'dim': 2,\n",
    "    'mode': 'dedicated',\n",
    "    'dim_1_n_extra_initial_points': 2,\n",
    "}\n",
    "\n",
    "prox_infos['dedicated_l1_nuclear_1d'] = {\n",
    "    'initial_points': get_nuclear_strength_as_initial_points,\n",
    "    'n_initial_points': 5,\n",
    "    'max_relative_step': 2,\n",
    "    'create_prox': create_prox_l1_no_mu_nuclear,\n",
    "    'tol': 1e-8,\n",
    "    'dim': 2,\n",
    "    'mode': 'dedicated',\n",
    "    'dim_1_n_extra_initial_points': 2,\n",
    "}\n",
    "\n",
    "prox_infos = OrderedDict(\n",
    "    (prox_name, dict(name=prox_name, **prox_info)) for prox_name, prox_info in prox_infos.items())\n",
    "list(prox_infos.keys())"
   ]
  },
  {
   "cell_type": "code",
   "execution_count": 19,
   "metadata": {},
   "outputs": [
    {
     "data": {
      "text/plain": [
       "'/home/m.bompaire/experiments/hawkes_data/'"
      ]
     },
     "execution_count": 19,
     "metadata": {},
     "output_type": "execute_result"
    }
   ],
   "source": [
    "directory_path"
   ]
  },
  {
   "cell_type": "code",
   "execution_count": null,
   "metadata": {},
   "outputs": [
    {
     "name": "stdout",
     "output_type": "stream",
     "text": [
      "## For time 5000\n",
      "### For prox l1\n",
      "coeffs file existed already and was the same\n",
      "Retrieved 100 precomputed models\n",
      "We keep 30 precomputed models\n",
      "2020-01-26 23:14 Run 0 - With 11 new points\n"
     ]
    }
   ],
   "source": [
    "n_models = 30\n",
    "\n",
    "solver_kwargs = {'tol': 1e-6, 'max_iter': 25000}\n",
    "\n",
    "\n",
    "if False:\n",
    "    n_simulations = n_models\n",
    "\n",
    "    simulate_hawkes_in_parallel(dim, run_times, n_decays, n_simulations, directory_path, n_cpu=n_cpu)\n",
    "\n",
    "    max_pre_computed_hawkes = n_models\n",
    "\n",
    "    for run_time in run_times:\n",
    "        pre_compute_hawkes(dim, run_time, n_decays, max_pre_computed_hawkes, \n",
    "                           directory_path, n_cpu=n_cpu)\n",
    "\n",
    "\n",
    "keep_prox = ['l1', 'l1w', 'nuclear', 'dedicated_l1w_nuclear_1d', 'dedicated_l1_nuclear_1d']\n",
    "for run_time in run_times:\n",
    "    for prox_info in prox_infos.values():\n",
    "        if prox_info['name'] not in keep_prox:\n",
    "            continue\n",
    "        infos = find_best_metrics(\n",
    "            dim, run_time, n_decays, n_models, prox_info, solver_kwargs,\n",
    "            directory_path, max_run_count=5, n_cpu=n_cpu, suffix='v2_30_models', first_prox=keep_prox[0])\n"
   ]
  },
  {
   "cell_type": "code",
   "execution_count": null,
   "metadata": {},
   "outputs": [],
   "source": []
  }
 ],
 "metadata": {
  "kernelspec": {
   "display_name": "Python 3",
   "language": "python",
   "name": "python3"
  },
  "language_info": {
   "codemirror_mode": {
    "name": "ipython",
    "version": 3
   },
   "file_extension": ".py",
   "mimetype": "text/x-python",
   "name": "python",
   "nbconvert_exporter": "python",
   "pygments_lexer": "ipython3",
   "version": "3.7.4"
  }
 },
 "nbformat": 4,
 "nbformat_minor": 4
}
